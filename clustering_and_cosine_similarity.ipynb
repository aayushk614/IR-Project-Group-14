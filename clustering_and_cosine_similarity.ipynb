{
  "nbformat": 4,
  "nbformat_minor": 0,
  "metadata": {
    "colab": {
      "provenance": []
    },
    "kernelspec": {
      "name": "python3",
      "display_name": "Python 3"
    },
    "language_info": {
      "name": "python"
    }
  },
  "cells": [
    {
      "cell_type": "code",
      "execution_count": null,
      "metadata": {
        "id": "y1gpm-eHVwps"
      },
      "outputs": [],
      "source": [
        "from sklearn.feature_extraction.text import TfidfVectorizer\n",
        "from sklearn.cluster import KMeans\n",
        "import numpy as np"
      ]
    },
    {
      "cell_type": "code",
      "source": [
        "# Define the sentences to cluster\n",
        "sentences = [\n",
        "    \"The quick brown fox jumps over the lazy dog\",\n",
        "    \"The lazy dog is jumped over by a quick brown fox\",\n",
        "    \"I like to eat pizza\",\n",
        "    \"Pizza is my favorite food\",\n",
        "    \"The quick brown fox ate pizza\"\n",
        "]"
      ],
      "metadata": {
        "id": "hFOLCclxV0TH"
      },
      "execution_count": null,
      "outputs": []
    },
    {
      "cell_type": "code",
      "source": [
        "\n",
        "# Initialize the TfidfVectorizer to convert sentences into vectors\n",
        "vectorizer = TfidfVectorizer()\n",
        "\n",
        "# Convert sentences to vectors\n",
        "X = vectorizer.fit_transform(sentences)\n",
        "\n",
        "# Cluster sentences using K-Means\n",
        "k = 2\n",
        "kmeans = KMeans(n_clusters=k, random_state=0).fit(X)\n",
        "\n",
        "# Print the clustering result\n",
        "for i in range(k):\n",
        "    cluster_i = np.where(kmeans.labels_ == i)[0]\n",
        "    print(f\"Cluster {i}:\")\n",
        "    for idx in cluster_i:\n",
        "        print(f\" - {sentences[idx]}\")\n"
      ],
      "metadata": {
        "colab": {
          "base_uri": "https://localhost:8080/"
        },
        "id": "NM-oXZ4ZVxft",
        "outputId": "acf79ec3-9e99-4a94-e929-7af13a97d283"
      },
      "execution_count": null,
      "outputs": [
        {
          "output_type": "stream",
          "name": "stdout",
          "text": [
            "Cluster 0:\n",
            " - I like to eat pizza\n",
            " - Pizza is my favorite food\n",
            "Cluster 1:\n",
            " - The quick brown fox jumps over the lazy dog\n",
            " - The lazy dog is jumped over by a quick brown fox\n",
            " - The quick brown fox ate pizza\n"
          ]
        }
      ]
    },
    {
      "cell_type": "code",
      "source": [
        "from sklearn.feature_extraction.text import CountVectorizer\n",
        "from sklearn.metrics.pairwise import cosine_similarity\n",
        "\n",
        "# Define the two sentences to compare\n",
        "sentence1 = \"The quick brown fox jumps over the lazy dog\"\n",
        "sentence2 = \"The lazy dog is jumped over by a quick brown fox\"\n",
        "\n",
        "# Initialize the count vectorizer\n",
        "vectorizer = CountVectorizer().fit_transform([sentence1, sentence2])\n",
        "\n",
        "# Calculate the cosine similarity\n",
        "cosine_similarities = cosine_similarity(vectorizer[0], vectorizer[1])\n",
        "\n",
        "# Print the result\n",
        "print(\"Cosine similarity:\", cosine_similarities[0][0])\n"
      ],
      "metadata": {
        "colab": {
          "base_uri": "https://localhost:8080/"
        },
        "id": "BUGaW0XAV4i8",
        "outputId": "2f48d59d-8960-465f-b7d9-1a67e24c42dc"
      },
      "execution_count": null,
      "outputs": [
        {
          "output_type": "stream",
          "name": "stdout",
          "text": [
            "Cosine similarity: 0.7627700713964739\n"
          ]
        }
      ]
    },
    {
      "cell_type": "code",
      "source": [
        "from sklearn.feature_extraction.text import CountVectorizer\n",
        "from sklearn.metrics.pairwise import cosine_similarity\n",
        "import numpy as np"
      ],
      "metadata": {
        "id": "BYmC5uXCWHbx"
      },
      "execution_count": null,
      "outputs": []
    },
    {
      "cell_type": "code",
      "source": [
        "\n",
        "\n",
        "# Define the sentences to compare\n",
        "sentences = [\n",
        "    \"The quick brown fox jumps over the lazy dog\",\n",
        "    \"The lazy dog is jumped over by a quick brown fox\",\n",
        "    \"I like to eat pizza\",\n",
        "    \"Pizza is my favorite food\",\n",
        "    \"The quick brown fox ate pizza\"\n",
        "]\n",
        "\n",
        "# Initialize the count vectorizer\n",
        "vectorizer = CountVectorizer().fit_transform(sentences)\n",
        "\n",
        "# Calculate the cosine similarity between all pairs of sentences\n",
        "cosine_similarities = cosine_similarity(vectorizer)\n",
        "\n",
        "# Print the results\n",
        "for i in range(len(sentences)):\n",
        "    for j in range(i+1, len(sentences)):\n",
        "        print(f\"Cosine similarity between '{sentences[i]}' and '{sentences[j]}': {cosine_similarities[i][j]}\")\n"
      ],
      "metadata": {
        "colab": {
          "base_uri": "https://localhost:8080/"
        },
        "id": "VmBvVASLWC7L",
        "outputId": "6a78b967-fe7f-43bd-fa80-9ea1cf4081dd"
      },
      "execution_count": null,
      "outputs": [
        {
          "output_type": "stream",
          "name": "stdout",
          "text": [
            "Cosine similarity between 'The quick brown fox jumps over the lazy dog' and 'The lazy dog is jumped over by a quick brown fox': 0.7627700713964739\n",
            "Cosine similarity between 'The quick brown fox jumps over the lazy dog' and 'I like to eat pizza': 0.0\n",
            "Cosine similarity between 'The quick brown fox jumps over the lazy dog' and 'Pizza is my favorite food': 0.0\n",
            "Cosine similarity between 'The quick brown fox jumps over the lazy dog' and 'The quick brown fox ate pizza': 0.6154574548966638\n",
            "Cosine similarity between 'The lazy dog is jumped over by a quick brown fox' and 'I like to eat pizza': 0.0\n",
            "Cosine similarity between 'The lazy dog is jumped over by a quick brown fox' and 'Pizza is my favorite food': 0.1414213562373095\n",
            "Cosine similarity between 'The lazy dog is jumped over by a quick brown fox' and 'The quick brown fox ate pizza': 0.5163977794943223\n",
            "Cosine similarity between 'I like to eat pizza' and 'Pizza is my favorite food': 0.22360679774997896\n",
            "Cosine similarity between 'I like to eat pizza' and 'The quick brown fox ate pizza': 0.20412414523193154\n",
            "Cosine similarity between 'Pizza is my favorite food' and 'The quick brown fox ate pizza': 0.18257418583505539\n"
          ]
        }
      ]
    },
    {
      "cell_type": "code",
      "source": [],
      "metadata": {
        "id": "NCs--gpsWIH1"
      },
      "execution_count": null,
      "outputs": []
    }
  ]
}